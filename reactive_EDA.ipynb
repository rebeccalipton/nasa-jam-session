{
  "nbformat": 4,
  "nbformat_minor": 0,
  "metadata": {
    "colab": {
      "name": "reactive_EDA.ipynb",
      "provenance": [],
      "collapsed_sections": [],
      "authorship_tag": "ABX9TyOgkQ9QIm24jwV6gI8Kv/wE",
      "include_colab_link": true
    },
    "kernelspec": {
      "name": "python3",
      "display_name": "Python 3"
    },
    "language_info": {
      "name": "python"
    }
  },
  "cells": [
    {
      "cell_type": "markdown",
      "metadata": {
        "id": "view-in-github",
        "colab_type": "text"
      },
      "source": [
        "<a href=\"https://colab.research.google.com/github/rebeccalipton/nasa-jam-session/blob/main/reactive_EDA.ipynb\" target=\"_parent\"><img src=\"https://colab.research.google.com/assets/colab-badge.svg\" alt=\"Open In Colab\"/></a>"
      ]
    },
    {
      "cell_type": "code",
      "metadata": {
        "id": "5CbtayNjnHth",
        "colab": {
          "resources": {
            "http://localhost:8080/nbextensions/google.colab/files.js": {
              "data": "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",
              "ok": true,
              "headers": [
                [
                  "content-type",
                  "application/javascript"
                ]
              ],
              "status": 200,
              "status_text": ""
            }
          },
          "base_uri": "https://localhost:8080/",
          "height": 73
        },
        "outputId": "dac27c3e-1f88-4bb3-959f-b0acefb39ab4"
      },
      "source": [
        "import pandas as pd\n",
        "\n",
        "from google.colab import files\n",
        "uploaded = files.upload()"
      ],
      "execution_count": null,
      "outputs": [
        {
          "output_type": "display_data",
          "data": {
            "text/html": [
              "\n",
              "     <input type=\"file\" id=\"files-89cf36dc-4569-4250-93d0-932f4c6a5afb\" name=\"files[]\" multiple disabled\n",
              "        style=\"border:none\" />\n",
              "     <output id=\"result-89cf36dc-4569-4250-93d0-932f4c6a5afb\">\n",
              "      Upload widget is only available when the cell has been executed in the\n",
              "      current browser session. Please rerun this cell to enable.\n",
              "      </output>\n",
              "      <script src=\"/nbextensions/google.colab/files.js\"></script> "
            ],
            "text/plain": [
              "<IPython.core.display.HTML object>"
            ]
          },
          "metadata": {}
        },
        {
          "output_type": "stream",
          "name": "stdout",
          "text": [
            "Saving combinedReactiveData.csv to combinedReactiveData (1).csv\n"
          ]
        }
      ]
    },
    {
      "cell_type": "code",
      "metadata": {
        "id": "sPCujVEjnmCi"
      },
      "source": [
        "import io\n",
        "reactive = pd.read_csv(io.BytesIO(uploaded['combinedReactiveData.csv']), sep = \",\")\n",
        "reactive = pd.DataFrame(reactive)"
      ],
      "execution_count": null,
      "outputs": []
    },
    {
      "cell_type": "code",
      "metadata": {
        "id": "b7uwP1jm4fqb"
      },
      "source": [
        "import numpy as np\n",
        "# https://stackoverflow.com/questions/19913659/pandas-conditional-creation-of-a-series-dataframe-column\n",
        "marker_conditions = [\n",
        "    (reactive['filename'].str.contains(\"A1AIM\")),\n",
        "    (reactive['filename'].str.contains(\"A2ASF\")),\n",
        "    (reactive['filename'].str.contains(\"B1IMAGE\")),\n",
        "    (reactive['filename'].str.contains(\"B2MESSAGE\")),\n",
        "    (reactive['filename'].str.contains(\"A1GMINICAM\")),\n",
        "    (reactive['filename'].str.contains(\"A1TMESSAGE\")),\n",
        " ]\n",
        "year_conditions = [\n",
        "    (reactive['filename'].str.contains(\"1990\")),\n",
        "    (reactive['filename'].str.contains(\"2000\")),\n",
        "    (reactive['filename'].str.contains(\"2010\")),\n",
        "    (reactive['filename'].str.contains(\"2020\")),\n",
        "    (reactive['filename'].str.contains(\"2030\")),\n",
        "    (reactive['filename'].str.contains(\"2040\")),\n",
        "    (reactive['filename'].str.contains(\"2050\")),\n",
        "    (reactive['filename'].str.contains(\"2060\")),\n",
        "    (reactive['filename'].str.contains(\"2070\")),\n",
        "    (reactive['filename'].str.contains(\"2080\")),\n",
        "    (reactive['filename'].str.contains(\"2090\")),\n",
        "    (reactive['filename'].str.contains(\"2100\")),\n",
        "]\n",
        "gases_conditions = [\n",
        "    (reactive['filename'].str.contains(\"CH4\")),\n",
        "    (reactive['filename'].str.contains(\"CO\")),\n",
        "    (reactive['filename'].str.contains(\"NOx\")),\n",
        "    (reactive['filename'].str.contains(\"NMVOC\")),\n",
        "]\n",
        "marker_choices = [\"A1AIM\",\"A2ASF\",\"B1IMAGE\",\"B2MESSAGE\",\"A1GMINICAM\",\"A1TMESSAGE\"]\n",
        "year_choices = [\"1990\",\"2000\",\"2010\",\"2020\",\"2030\",\"2040\",\"2050\",\"2060\",\"2070\",\"2080\",\"2090\",\"2100\"]\n",
        "gases_choices = [\"CH4\",\"CO\",\"NOx\",\"NMVOC\"]\n",
        "reactive['markers'] = np.select(marker_conditions, marker_choices)\n",
        "reactive['years'] = np.select(year_conditions, year_choices)\n",
        "reactive['gases'] = np.select(gases_conditions, gases_choices)\n"
      ],
      "execution_count": null,
      "outputs": []
    },
    {
      "cell_type": "code",
      "metadata": {
        "colab": {
          "base_uri": "https://localhost:8080/"
        },
        "id": "Atr6z1Ln8jO9",
        "outputId": "b669e183-8bc0-44d6-f797-b904e15d5da1"
      },
      "source": [
        "reactive['filetest'] = reactive.markers + reactive.years + reactive.gases + \".txt\"\n",
        "reactive[\"identical\"] = (reactive.filetest == reactive.filename)\n",
        "\n",
        "# assures that all of the filenames were split into separate columns correctly since all values returned in identical column are true\n",
        "reactive.identical.describe() \n",
        "reactive.columns"
      ],
      "execution_count": null,
      "outputs": [
        {
          "output_type": "execute_result",
          "data": {
            "text/plain": [
              "Index(['long', 'lat', 'value', 'filename', 'markers', 'years', 'gases',\n",
              "       'filetest', 'identical'],\n",
              "      dtype='object')"
            ]
          },
          "metadata": {},
          "execution_count": 5
        }
      ]
    },
    {
      "cell_type": "code",
      "metadata": {
        "colab": {
          "base_uri": "https://localhost:8080/",
          "height": 424
        },
        "id": "akmGmkZ5-Jl5",
        "outputId": "a7dc0f3f-fb50-43bc-f495-6e0105537f2f"
      },
      "source": [
        "reactiveDF = reactive[['long', 'lat', 'value', 'markers', 'years', 'gases']]\n",
        "reactiveDF"
      ],
      "execution_count": null,
      "outputs": [
        {
          "output_type": "execute_result",
          "data": {
            "text/html": [
              "<div>\n",
              "<style scoped>\n",
              "    .dataframe tbody tr th:only-of-type {\n",
              "        vertical-align: middle;\n",
              "    }\n",
              "\n",
              "    .dataframe tbody tr th {\n",
              "        vertical-align: top;\n",
              "    }\n",
              "\n",
              "    .dataframe thead th {\n",
              "        text-align: right;\n",
              "    }\n",
              "</style>\n",
              "<table border=\"1\" class=\"dataframe\">\n",
              "  <thead>\n",
              "    <tr style=\"text-align: right;\">\n",
              "      <th></th>\n",
              "      <th>long</th>\n",
              "      <th>lat</th>\n",
              "      <th>value</th>\n",
              "      <th>markers</th>\n",
              "      <th>years</th>\n",
              "      <th>gases</th>\n",
              "    </tr>\n",
              "  </thead>\n",
              "  <tbody>\n",
              "    <tr>\n",
              "      <th>0</th>\n",
              "      <td>-170</td>\n",
              "      <td>-20</td>\n",
              "      <td>0.000170</td>\n",
              "      <td>A1TMESSAGE</td>\n",
              "      <td>2070</td>\n",
              "      <td>CH4</td>\n",
              "    </tr>\n",
              "    <tr>\n",
              "      <th>1</th>\n",
              "      <td>-167</td>\n",
              "      <td>65</td>\n",
              "      <td>0.000173</td>\n",
              "      <td>A1TMESSAGE</td>\n",
              "      <td>2070</td>\n",
              "      <td>CH4</td>\n",
              "    </tr>\n",
              "    <tr>\n",
              "      <th>2</th>\n",
              "      <td>-166</td>\n",
              "      <td>68</td>\n",
              "      <td>0.000053</td>\n",
              "      <td>A1TMESSAGE</td>\n",
              "      <td>2070</td>\n",
              "      <td>CH4</td>\n",
              "    </tr>\n",
              "    <tr>\n",
              "      <th>3</th>\n",
              "      <td>-166</td>\n",
              "      <td>65</td>\n",
              "      <td>0.000173</td>\n",
              "      <td>A1TMESSAGE</td>\n",
              "      <td>2070</td>\n",
              "      <td>CH4</td>\n",
              "    </tr>\n",
              "    <tr>\n",
              "      <th>4</th>\n",
              "      <td>-166</td>\n",
              "      <td>64</td>\n",
              "      <td>0.000180</td>\n",
              "      <td>A1TMESSAGE</td>\n",
              "      <td>2070</td>\n",
              "      <td>CH4</td>\n",
              "    </tr>\n",
              "    <tr>\n",
              "      <th>...</th>\n",
              "      <td>...</td>\n",
              "      <td>...</td>\n",
              "      <td>...</td>\n",
              "      <td>...</td>\n",
              "      <td>...</td>\n",
              "      <td>...</td>\n",
              "    </tr>\n",
              "    <tr>\n",
              "      <th>2895979</th>\n",
              "      <td>177</td>\n",
              "      <td>-39</td>\n",
              "      <td>0.022543</td>\n",
              "      <td>B1IMAGE</td>\n",
              "      <td>2090</td>\n",
              "      <td>CH4</td>\n",
              "    </tr>\n",
              "    <tr>\n",
              "      <th>2895980</th>\n",
              "      <td>178</td>\n",
              "      <td>63</td>\n",
              "      <td>0.011734</td>\n",
              "      <td>B1IMAGE</td>\n",
              "      <td>2090</td>\n",
              "      <td>CH4</td>\n",
              "    </tr>\n",
              "    <tr>\n",
              "      <th>2895981</th>\n",
              "      <td>178</td>\n",
              "      <td>62</td>\n",
              "      <td>0.002186</td>\n",
              "      <td>B1IMAGE</td>\n",
              "      <td>2090</td>\n",
              "      <td>CH4</td>\n",
              "    </tr>\n",
              "    <tr>\n",
              "      <th>2895982</th>\n",
              "      <td>178</td>\n",
              "      <td>-18</td>\n",
              "      <td>0.041475</td>\n",
              "      <td>B1IMAGE</td>\n",
              "      <td>2090</td>\n",
              "      <td>CH4</td>\n",
              "    </tr>\n",
              "    <tr>\n",
              "      <th>2895983</th>\n",
              "      <td>178</td>\n",
              "      <td>-19</td>\n",
              "      <td>0.015322</td>\n",
              "      <td>B1IMAGE</td>\n",
              "      <td>2090</td>\n",
              "      <td>CH4</td>\n",
              "    </tr>\n",
              "  </tbody>\n",
              "</table>\n",
              "<p>2895984 rows × 6 columns</p>\n",
              "</div>"
            ],
            "text/plain": [
              "         long  lat     value     markers years gases\n",
              "0        -170  -20  0.000170  A1TMESSAGE  2070   CH4\n",
              "1        -167   65  0.000173  A1TMESSAGE  2070   CH4\n",
              "2        -166   68  0.000053  A1TMESSAGE  2070   CH4\n",
              "3        -166   65  0.000173  A1TMESSAGE  2070   CH4\n",
              "4        -166   64  0.000180  A1TMESSAGE  2070   CH4\n",
              "...       ...  ...       ...         ...   ...   ...\n",
              "2895979   177  -39  0.022543     B1IMAGE  2090   CH4\n",
              "2895980   178   63  0.011734     B1IMAGE  2090   CH4\n",
              "2895981   178   62  0.002186     B1IMAGE  2090   CH4\n",
              "2895982   178  -18  0.041475     B1IMAGE  2090   CH4\n",
              "2895983   178  -19  0.015322     B1IMAGE  2090   CH4\n",
              "\n",
              "[2895984 rows x 6 columns]"
            ]
          },
          "metadata": {},
          "execution_count": 6
        }
      ]
    },
    {
      "cell_type": "code",
      "metadata": {
        "id": "ake7XtnW-qna"
      },
      "source": [
        "# !pip install -q condacolab\n",
        "# import condacolab\n",
        "# condacolab.install()\n",
        "# !conda install geopandas\n",
        "# !conda install geopy\n",
        "# !conda install reverse_geocoder\n",
        "# !conda install geopy\n",
        "# !conda install geocoder\n",
        "# !conda install plotly_express\n",
        "#!conda install pandas-profiling"
      ],
      "execution_count": 132,
      "outputs": []
    },
    {
      "cell_type": "code",
      "metadata": {
        "id": "m9uOWEg2-sc-"
      },
      "source": [
        "import geopandas\n",
        "import matplotlib.pyplot as plt\n",
        "\n",
        "geometry = geopandas.points_from_xy(reactiveDF.long, reactiveDF.lat)\n",
        "reactiveDF = geopandas.GeoDataFrame(reactiveDF, geometry = geometry)"
      ],
      "execution_count": null,
      "outputs": []
    },
    {
      "cell_type": "code",
      "metadata": {
        "id": "IameUXgKw5CI"
      },
      "source": [
        "# 1st is longitude, 2nd is latitude\n",
        "#from shapely.geometry import Point\n",
        "#reactiveDF[\"address\"] = geopandas.tools.reverse_geocode(reactiveDF.geometry)"
      ],
      "execution_count": null,
      "outputs": []
    },
    {
      "cell_type": "code",
      "metadata": {
        "id": "HNMfVyMuw46G"
      },
      "source": [
        "reactiveDF[\"geom\"] = reactiveDF[\"lat\"].map(str) + ', ' + reactiveDF[\"long\"].map(str)\n",
        "reactiveDF[\"geom\"] = reactiveDF[\"geom\"].astype(str)"
      ],
      "execution_count": 73,
      "outputs": []
    },
    {
      "cell_type": "code",
      "metadata": {
        "colab": {
          "base_uri": "https://localhost:8080/"
        },
        "id": "oEM9BbkgQWLn",
        "outputId": "2883200c-7111-4e50-9c3f-317e68d54c72"
      },
      "source": [
        "reactiveDF.dtypes"
      ],
      "execution_count": 127,
      "outputs": [
        {
          "output_type": "execute_result",
          "data": {
            "text/plain": [
              "long           int64\n",
              "lat            int64\n",
              "value        float64\n",
              "markers       object\n",
              "years         object\n",
              "gases         object\n",
              "geometry    geometry\n",
              "geom          object\n",
              "address       object\n",
              "dtype: object"
            ]
          },
          "metadata": {},
          "execution_count": 127
        }
      ]
    },
    {
      "cell_type": "code",
      "metadata": {
        "id": "qOXGzwLPK3tN"
      },
      "source": [
        "# geolocator = Nominatim(user_agent = \"get_address\")\n",
        "# location = geolocator.reverse(test.geom)\n",
        "# location.address"
      ],
      "execution_count": 74,
      "outputs": []
    },
    {
      "cell_type": "code",
      "metadata": {
        "id": "7v5VotO1ws5B"
      },
      "source": [
        "import geopy\n",
        "from geopy.extra.rate_limiter import RateLimiter\n",
        "from geopy.geocoders import Nominatim\n",
        "locator = Nominatim(user_agent = \"myGeocoder\")\n"
      ],
      "execution_count": 126,
      "outputs": []
    },
    {
      "cell_type": "code",
      "metadata": {
        "colab": {
          "base_uri": "https://localhost:8080/",
          "height": 424
        },
        "id": "L3cTyvtgjwcU",
        "outputId": "fc25c7f7-fc44-4417-a8f2-72cca27a3124"
      },
      "source": [
        "reactiveDF"
      ],
      "execution_count": 128,
      "outputs": [
        {
          "output_type": "execute_result",
          "data": {
            "text/html": [
              "<div>\n",
              "<style scoped>\n",
              "    .dataframe tbody tr th:only-of-type {\n",
              "        vertical-align: middle;\n",
              "    }\n",
              "\n",
              "    .dataframe tbody tr th {\n",
              "        vertical-align: top;\n",
              "    }\n",
              "\n",
              "    .dataframe thead th {\n",
              "        text-align: right;\n",
              "    }\n",
              "</style>\n",
              "<table border=\"1\" class=\"dataframe\">\n",
              "  <thead>\n",
              "    <tr style=\"text-align: right;\">\n",
              "      <th></th>\n",
              "      <th>long</th>\n",
              "      <th>lat</th>\n",
              "      <th>value</th>\n",
              "      <th>markers</th>\n",
              "      <th>years</th>\n",
              "      <th>gases</th>\n",
              "      <th>geometry</th>\n",
              "      <th>geom</th>\n",
              "      <th>address</th>\n",
              "    </tr>\n",
              "  </thead>\n",
              "  <tbody>\n",
              "    <tr>\n",
              "      <th>0</th>\n",
              "      <td>-170</td>\n",
              "      <td>-20</td>\n",
              "      <td>0.000170</td>\n",
              "      <td>A1TMESSAGE</td>\n",
              "      <td>2070</td>\n",
              "      <td>CH4</td>\n",
              "      <td>POINT (-170.00000 -20.00000)</td>\n",
              "      <td>-20, -170</td>\n",
              "      <td>None</td>\n",
              "    </tr>\n",
              "    <tr>\n",
              "      <th>1</th>\n",
              "      <td>-167</td>\n",
              "      <td>65</td>\n",
              "      <td>0.000173</td>\n",
              "      <td>A1TMESSAGE</td>\n",
              "      <td>2070</td>\n",
              "      <td>CH4</td>\n",
              "      <td>POINT (-167.00000 65.00000)</td>\n",
              "      <td>65, -167</td>\n",
              "      <td>None</td>\n",
              "    </tr>\n",
              "    <tr>\n",
              "      <th>2</th>\n",
              "      <td>-166</td>\n",
              "      <td>68</td>\n",
              "      <td>0.000053</td>\n",
              "      <td>A1TMESSAGE</td>\n",
              "      <td>2070</td>\n",
              "      <td>CH4</td>\n",
              "      <td>POINT (-166.00000 68.00000)</td>\n",
              "      <td>68, -166</td>\n",
              "      <td>None</td>\n",
              "    </tr>\n",
              "    <tr>\n",
              "      <th>3</th>\n",
              "      <td>-166</td>\n",
              "      <td>65</td>\n",
              "      <td>0.000173</td>\n",
              "      <td>A1TMESSAGE</td>\n",
              "      <td>2070</td>\n",
              "      <td>CH4</td>\n",
              "      <td>POINT (-166.00000 65.00000)</td>\n",
              "      <td>65, -166</td>\n",
              "      <td>None</td>\n",
              "    </tr>\n",
              "    <tr>\n",
              "      <th>4</th>\n",
              "      <td>-166</td>\n",
              "      <td>64</td>\n",
              "      <td>0.000180</td>\n",
              "      <td>A1TMESSAGE</td>\n",
              "      <td>2070</td>\n",
              "      <td>CH4</td>\n",
              "      <td>POINT (-166.00000 64.00000)</td>\n",
              "      <td>64, -166</td>\n",
              "      <td>None</td>\n",
              "    </tr>\n",
              "    <tr>\n",
              "      <th>...</th>\n",
              "      <td>...</td>\n",
              "      <td>...</td>\n",
              "      <td>...</td>\n",
              "      <td>...</td>\n",
              "      <td>...</td>\n",
              "      <td>...</td>\n",
              "      <td>...</td>\n",
              "      <td>...</td>\n",
              "      <td>...</td>\n",
              "    </tr>\n",
              "    <tr>\n",
              "      <th>2895979</th>\n",
              "      <td>177</td>\n",
              "      <td>-39</td>\n",
              "      <td>0.022543</td>\n",
              "      <td>B1IMAGE</td>\n",
              "      <td>2090</td>\n",
              "      <td>CH4</td>\n",
              "      <td>POINT (177.00000 -39.00000)</td>\n",
              "      <td>-39, 177</td>\n",
              "      <td>None</td>\n",
              "    </tr>\n",
              "    <tr>\n",
              "      <th>2895980</th>\n",
              "      <td>178</td>\n",
              "      <td>63</td>\n",
              "      <td>0.011734</td>\n",
              "      <td>B1IMAGE</td>\n",
              "      <td>2090</td>\n",
              "      <td>CH4</td>\n",
              "      <td>POINT (178.00000 63.00000)</td>\n",
              "      <td>63, 178</td>\n",
              "      <td>None</td>\n",
              "    </tr>\n",
              "    <tr>\n",
              "      <th>2895981</th>\n",
              "      <td>178</td>\n",
              "      <td>62</td>\n",
              "      <td>0.002186</td>\n",
              "      <td>B1IMAGE</td>\n",
              "      <td>2090</td>\n",
              "      <td>CH4</td>\n",
              "      <td>POINT (178.00000 62.00000)</td>\n",
              "      <td>62, 178</td>\n",
              "      <td>None</td>\n",
              "    </tr>\n",
              "    <tr>\n",
              "      <th>2895982</th>\n",
              "      <td>178</td>\n",
              "      <td>-18</td>\n",
              "      <td>0.041475</td>\n",
              "      <td>B1IMAGE</td>\n",
              "      <td>2090</td>\n",
              "      <td>CH4</td>\n",
              "      <td>POINT (178.00000 -18.00000)</td>\n",
              "      <td>-18, 178</td>\n",
              "      <td>None</td>\n",
              "    </tr>\n",
              "    <tr>\n",
              "      <th>2895983</th>\n",
              "      <td>178</td>\n",
              "      <td>-19</td>\n",
              "      <td>0.015322</td>\n",
              "      <td>B1IMAGE</td>\n",
              "      <td>2090</td>\n",
              "      <td>CH4</td>\n",
              "      <td>POINT (178.00000 -19.00000)</td>\n",
              "      <td>-19, 178</td>\n",
              "      <td>None</td>\n",
              "    </tr>\n",
              "  </tbody>\n",
              "</table>\n",
              "<p>2895984 rows × 9 columns</p>\n",
              "</div>"
            ],
            "text/plain": [
              "         long  lat     value  ...                      geometry       geom address\n",
              "0        -170  -20  0.000170  ...  POINT (-170.00000 -20.00000)  -20, -170    None\n",
              "1        -167   65  0.000173  ...   POINT (-167.00000 65.00000)   65, -167    None\n",
              "2        -166   68  0.000053  ...   POINT (-166.00000 68.00000)   68, -166    None\n",
              "3        -166   65  0.000173  ...   POINT (-166.00000 65.00000)   65, -166    None\n",
              "4        -166   64  0.000180  ...   POINT (-166.00000 64.00000)   64, -166    None\n",
              "...       ...  ...       ...  ...                           ...        ...     ...\n",
              "2895979   177  -39  0.022543  ...   POINT (177.00000 -39.00000)   -39, 177    None\n",
              "2895980   178   63  0.011734  ...    POINT (178.00000 63.00000)    63, 178    None\n",
              "2895981   178   62  0.002186  ...    POINT (178.00000 62.00000)    62, 178    None\n",
              "2895982   178  -18  0.041475  ...   POINT (178.00000 -18.00000)   -18, 178    None\n",
              "2895983   178  -19  0.015322  ...   POINT (178.00000 -19.00000)   -19, 178    None\n",
              "\n",
              "[2895984 rows x 9 columns]"
            ]
          },
          "metadata": {},
          "execution_count": 128
        }
      ]
    },
    {
      "cell_type": "code",
      "metadata": {
        "id": "qycY4bZVj3-Y"
      },
      "source": [
        "# from pandas_profiling import ProfileReport\n",
        "# profile = ProfileReport(reactiveDF)\n",
        "# profile"
      ],
      "execution_count": 134,
      "outputs": []
    },
    {
      "cell_type": "code",
      "metadata": {
        "id": "TMNgcFYGj34V"
      },
      "source": [
        ""
      ],
      "execution_count": null,
      "outputs": []
    }
  ]
}